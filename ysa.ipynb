{
 "cells": [
  {
   "cell_type": "code",
   "execution_count": 1,
   "metadata": {
    "colab": {
     "base_uri": "https://localhost:8080/"
    },
    "id": "6JOhWW48jPST",
    "outputId": "75673f0f-030e-4a61-b973-5d93d1e4a835"
   },
   "outputs": [
    {
     "name": "stdout",
     "output_type": "stream",
     "text": [
      "Epoch 0 | Train Loss: 0.42474 | Val Loss: 0.37562\n",
      "Epoch 1 | Train Loss: 0.38005 | Val Loss: 0.31282\n",
      "Epoch 2 | Train Loss: 0.34762 | Val Loss: 0.28073\n",
      "Epoch 3 | Train Loss: 0.33024 | Val Loss: 0.26546\n",
      "Epoch 4 | Train Loss: 0.31701 | Val Loss: 0.25705\n",
      "Epoch 5 | Train Loss: 0.30868 | Val Loss: 0.25640\n",
      "Epoch 6 | Train Loss: 0.31034 | Val Loss: 0.26156\n",
      "Epoch 7 | Train Loss: 0.29332 | Val Loss: 0.25004\n",
      "Epoch 8 | Train Loss: 0.28989 | Val Loss: 0.25253\n",
      "Epoch 9 | Train Loss: 0.25606 | Val Loss: 0.22933\n",
      "Epoch 10 | Train Loss: 0.22393 | Val Loss: 0.21273\n",
      "Epoch 11 | Train Loss: 0.20490 | Val Loss: 0.19919\n",
      "Epoch 12 | Train Loss: 0.19153 | Val Loss: 0.19130\n",
      "Epoch 13 | Train Loss: 0.17958 | Val Loss: 0.18546\n",
      "Epoch 14 | Train Loss: 0.16807 | Val Loss: 0.17870\n",
      "Epoch 15 | Train Loss: 0.15619 | Val Loss: 0.17178\n",
      "Epoch 16 | Train Loss: 0.14987 | Val Loss: 0.17008\n",
      "Epoch 17 | Train Loss: 0.13968 | Val Loss: 0.16567\n",
      "Epoch 18 | Train Loss: 0.12972 | Val Loss: 0.16084\n",
      "Epoch 19 | Train Loss: 0.12430 | Val Loss: 0.16286\n",
      "Epoch 20 | Train Loss: 0.11697 | Val Loss: 0.15969\n",
      "Epoch 21 | Train Loss: 0.11042 | Val Loss: 0.15992\n",
      "Epoch 22 | Train Loss: 0.10627 | Val Loss: 0.15919\n",
      "Epoch 23 | Train Loss: 0.09994 | Val Loss: 0.15817\n",
      "Epoch 24 | Train Loss: 0.09364 | Val Loss: 0.15687\n",
      "Epoch 25 | Train Loss: 0.08967 | Val Loss: 0.15706\n"
     ]
    }
   ],
   "source": [
    "#5.1 \n",
    "# Kullandığımız kitaplıklar\n",
    "import torch\n",
    "import torch.nn as nn\n",
    "import torch.optim as optim\n",
    "import pandas as pd\n",
    "import matplotlib.pyplot as plt\n",
    "\n",
    "# Verileri Yükleme\n",
    "train_data = pd.read_csv(\"cure_the_princess_train.csv\")\n",
    "test_data = pd.read_csv(\"cure_the_princess_test.csv\")\n",
    "val_data = pd.read_csv(\"cure_the_princess_validation.csv\")\n",
    "\n",
    "# Verilerin hazırlanması\n",
    "train_inputs = torch.tensor(train_data.drop(\"Cured\", axis=1).values, dtype=torch.float32)\n",
    "train_targets = torch.tensor(train_data[\"Cured\"].values, dtype=torch.float32)\n",
    "test_inputs = torch.tensor(test_data.drop(\"Cured\", axis=1).values, dtype=torch.float32)\n",
    "test_targets = torch.tensor(test_data[\"Cured\"].values, dtype=torch.float32)\n",
    "val_inputs = torch.tensor(val_data.drop(\"Cured\", axis=1).values, dtype=torch.float32)\n",
    "val_targets = torch.tensor(val_data[\"Cured\"].values, dtype=torch.float32)\n",
    "\n",
    "# Model\n",
    "class MLP(nn.Module):\n",
    "    def __init__(self):\n",
    "        super().__init__()\n",
    "        self.hidden1 = nn.Linear(13, 100)\n",
    "        self.hidden2 = nn.Linear(100, 50)\n",
    "        self.out = nn.Linear(50, 1)\n",
    "\n",
    "    def forward(self, x):\n",
    "        x = torch.relu(self.hidden1(x))\n",
    "        x = torch.relu(self.hidden2(x))\n",
    "        x = torch.sigmoid(self.out(x))\n",
    "        return x\n",
    "\n",
    "# Modeli optimize etme\n",
    "model = MLP()\n",
    "optimizer = optim.SGD(model.parameters(), lr=0.01)\n",
    "criterion = nn.BCELoss()\n",
    "torch.manual_seed(180401028)\n",
    "\n",
    "# Modeli eğitme\n",
    "train_losses, val_losses = [], []\n",
    "num_epochs = 1000\n",
    "batch_size = 16\n",
    "\n",
    "for epoch in range(num_epochs):\n",
    "    for i in range(0, len(train_inputs), batch_size):\n",
    "        batch_inputs = train_inputs[i:i+batch_size]\n",
    "        batch_targets = train_targets[i:i+batch_size]\n",
    "\n",
    "        optimizer.zero_grad()\n",
    "        outputs = model(batch_inputs).squeeze()\n",
    "        loss = criterion(outputs, batch_targets)\n",
    "        loss.backward()\n",
    "        optimizer.step()\n",
    "\n",
    "    # Modeli eğitim ve doğrulama setlerinde değerlendirme\n",
    "    with torch.no_grad():\n",
    "        train_outputs = model(train_inputs).squeeze()\n",
    "        train_loss = criterion(train_outputs, train_targets)\n",
    "        train_losses.append(train_loss.item())\n",
    "\n",
    "        val_outputs = model(val_inputs).squeeze()\n",
    "        val_loss = criterion(val_outputs, val_targets)\n",
    "        val_losses.append(val_loss.item())\n",
    "\n",
    "        train_predictions = (model(train_inputs) > 0.5).float()\n",
    "        test_predictions = (model(test_inputs) > 0.5).float()\n",
    "        val_predictions = (model(val_inputs) > 0.5).float()\n",
    "\n",
    "    \n",
    "    if epoch > 10 and val_losses[-1] > val_losses[-3]:\n",
    "        break\n",
    "\n",
    "    # Eğitim ilerlemesini yazdırma\n",
    "    if epoch % 1 == 0:\n",
    "        print(f\"Epoch {epoch} | Train Loss: {train_loss:.5f} | Val Loss: {val_loss:.5f}\")\n",
    "\n",
    "\n"
   ]
  },
  {
   "cell_type": "code",
   "execution_count": 2,
   "metadata": {
    "colab": {
     "base_uri": "https://localhost:8080/",
     "height": 447
    },
    "id": "gpdbGbxjn8EP",
    "outputId": "75d79907-e536-4199-d339-acd09ffee85f",
    "tags": []
   },
   "outputs": [
    {
     "name": "stdout",
     "output_type": "stream",
     "text": [
      "Test Loss: 0.14022 | Test Acc: 0.94689\n"
     ]
    },
    {
     "data": {
      "image/png": "[encoded data removed]",
      "text/plain": [
       "<Figure size 640x480 with 1 Axes>"
      ]
     },
     "metadata": {},
     "output_type": "display_data"
    }
   ],
   "source": [
    "#5.2\n",
    "# Modeli test setinde değerlendirme\n",
    "test_outputs = model(test_inputs).squeeze()\n",
    "test_loss = criterion(test_outputs, test_targets)\n",
    "test_acc = ((test_outputs > 0.5).float() == test_targets).float().mean()\n",
    "\n",
    "print(f\"Test Loss: {test_loss:.5f} | Test Acc: {test_acc:.5f}\")\n",
    "\n",
    "plt.plot(train_losses, label=\"Train Loss\")\n",
    "plt.plot(val_losses, label=\"Val Loss\")\n",
    "plt.legend()\n",
    "plt.show()"
   ]
  },
  {
   "cell_type": "code",
   "execution_count": 3,
   "metadata": {
    "colab": {
     "base_uri": "https://localhost:8080/"
    },
    "id": "tn0ZBbfqlvh9",
    "outputId": "d7cecf83-67a6-49ff-c97e-138d486eb3f2"
   },
   "outputs": [
    {
     "name": "stdout",
     "output_type": "stream",
     "text": [
      "Train:\n",
      "F1 Score: 0.97078 | Accuracy: 0.97125 | Recall: 0.96921 | Precision: 0.97236\n",
      "Test:\n",
      "F1 Score: 0.94626 | Accuracy: 0.94689 | Recall: 0.93041 | Precision: 0.96267\n",
      "Val:\n",
      "F1 Score: 0.93891 | Accuracy: 0.93949 | Recall: 0.93590 | Precision: 0.94194\n"
     ]
    }
   ],
   "source": [
    "#5.3\n",
    "# Değerlendirme metriklerini hesaplama\n",
    "from sklearn.metrics import f1_score, accuracy_score, recall_score, precision_score\n",
    "\n",
    "train_f1 = f1_score(train_targets, train_predictions)\n",
    "train_acc = accuracy_score(train_targets, train_predictions)\n",
    "train_recall = recall_score(train_targets, train_predictions)\n",
    "train_precision = precision_score(train_targets, train_predictions)\n",
    "\n",
    "test_f1 = f1_score(test_targets, test_predictions)\n",
    "test_acc = accuracy_score(test_targets, test_predictions)\n",
    "test_recall = recall_score(test_targets, test_predictions)\n",
    "test_precision = precision_score(test_targets, test_predictions)\n",
    "\n",
    "val_f1 = f1_score(val_targets, val_predictions)\n",
    "val_acc = accuracy_score(val_targets, val_predictions)\n",
    "val_recall = recall_score(val_targets, val_predictions)\n",
    "val_precision = precision_score(val_targets, val_predictions)\n",
    "\n",
    "# Değerlendirme metriklerini yazdırma\n",
    "print(\"Train:\")\n",
    "print(f\"F1 Score: {train_f1:.5f} | Accuracy: {train_acc:.5f} | Recall: {train_recall:.5f} | Precision: {train_precision:.5f}\")\n",
    "print(\"Test:\")\n",
    "print(f\"F1 Score: {test_f1:.5f} | Accuracy: {test_acc:.5f} | Recall: {test_recall:.5f} | Precision: {test_precision:.5f}\")\n",
    "print(\"Val:\")\n",
    "print(f\"F1 Score: {val_f1:.5f} | Accuracy: {val_acc:.5f} | Recall: {val_recall:.5f} | Precision: {val_precision:.5f}\")"
   ]
  },
  {
   "cell_type": "code",
   "execution_count": null,
   "metadata": {
    "id": "xEJlDBC4deCw"
   },
   "outputs": [],
   "source": []
  }
 ],
 "metadata": {
  "colab": {
   "provenance": []
  },
  "kernelspec": {
   "display_name": "Python 3 (ipykernel)",
   "language": "python",
   "name": "python3"
  },
  "language_info": {
   "codemirror_mode": {
    "name": "ipython",
    "version": 3
   },
   "file_extension": ".py",
   "mimetype": "text/x-python",
   "name": "python",
   "nbconvert_exporter": "python",
   "pygments_lexer": "ipython3",
   "version": "3.10.9"
  }
 },
 "nbformat": 4,
 "nbformat_minor": 4
}
